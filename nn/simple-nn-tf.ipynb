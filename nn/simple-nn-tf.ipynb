{
 "cells": [
  {
   "cell_type": "markdown",
   "metadata": {},
   "source": [
    "## Simple Neural Nets with tensorflow"
   ]
  },
  {
   "cell_type": "code",
   "execution_count": 1,
   "metadata": {},
   "outputs": [],
   "source": [
    "import tensorflow as tf\n",
    "import numpy as np\n",
    "from tqdm import tqdm_notebook as tqdm\n",
    "\n",
    "%load_ext autoreload\n",
    "%autoreload\n",
    "%config Completer.use_jedi=False"
   ]
  },
  {
   "cell_type": "code",
   "execution_count": 2,
   "metadata": {},
   "outputs": [
    {
     "data": {
      "text/plain": [
       "True"
      ]
     },
     "execution_count": 2,
     "metadata": {},
     "output_type": "execute_result"
    }
   ],
   "source": [
    "tf.executing_eagerly()"
   ]
  },
  {
   "cell_type": "markdown",
   "metadata": {},
   "source": [
    "## Read in data\n",
    "\n",
    "Using MNIST"
   ]
  },
  {
   "cell_type": "code",
   "execution_count": 3,
   "metadata": {},
   "outputs": [],
   "source": [
    "(X_train, y_train), (X_test, y_test) = tf.keras.datasets.mnist.load_data()"
   ]
  },
  {
   "cell_type": "code",
   "execution_count": 4,
   "metadata": {},
   "outputs": [
    {
     "data": {
      "text/plain": [
       "((60000, 28, 28), (60000,))"
      ]
     },
     "execution_count": 4,
     "metadata": {},
     "output_type": "execute_result"
    }
   ],
   "source": [
    "X_train.shape, y_train.shape"
   ]
  },
  {
   "cell_type": "markdown",
   "metadata": {},
   "source": [
    "Convert numpy tensors to tensorflow tensors and create batches"
   ]
  },
  {
   "cell_type": "code",
   "execution_count": 43,
   "metadata": {},
   "outputs": [],
   "source": [
    "train_dataset = tf.data.Dataset.from_tensor_slices((X_train, y_train))\n",
    "test_dataset = tf.data.Dataset.from_tensor_slices((X_test, y_test))\n",
    "\n",
    "BATCH_SIZE = 128\n",
    "SHUFFLE_BUFFER_SIZE = 100\n",
    "\n",
    "train_dataset = train_dataset.shuffle(SHUFFLE_BUFFER_SIZE).batch(BATCH_SIZE)\n",
    "test_dataset = test_dataset.batch(BATCH_SIZE)"
   ]
  },
  {
   "cell_type": "markdown",
   "metadata": {},
   "source": [
    "## Train with non customizable loop"
   ]
  },
  {
   "cell_type": "markdown",
   "metadata": {},
   "source": [
    "Non customizable training loop"
   ]
  },
  {
   "cell_type": "code",
   "execution_count": 99,
   "metadata": {},
   "outputs": [],
   "source": [
    "model = tf.keras.Sequential([\n",
    "    tf.keras.layers.Flatten(input_shape=(28, 28)),\n",
    "    tf.keras.layers.Dense(128, activation='relu'),\n",
    "    tf.keras.layers.Dense(10, activation=\"sigmoid\")\n",
    "])\n",
    "\n",
    "model.compile(optimizer=tf.keras.optimizers.SGD(learning_rate=0.01),\n",
    "              loss=tf.keras.losses.SparseCategoricalCrossentropy(from_logits=True),\n",
    "              metrics=['sparse_categorical_accuracy'])"
   ]
  },
  {
   "cell_type": "code",
   "execution_count": 100,
   "metadata": {},
   "outputs": [
    {
     "name": "stdout",
     "output_type": "stream",
     "text": [
      "Train for 469 steps\n",
      "Epoch 1/50\n",
      "469/469 [==============================] - 1s 2ms/step - loss: 1.8584 - sparse_categorical_accuracy: 0.5448\n",
      "Epoch 2/50\n",
      "469/469 [==============================] - 1s 1ms/step - loss: 1.7462 - sparse_categorical_accuracy: 0.6691\n",
      "Epoch 3/50\n",
      "469/469 [==============================] - 1s 1ms/step - loss: 1.7258 - sparse_categorical_accuracy: 0.6869\n",
      "Epoch 4/50\n",
      "469/469 [==============================] - 1s 1ms/step - loss: 1.7129 - sparse_categorical_accuracy: 0.7127\n",
      "Epoch 5/50\n",
      "469/469 [==============================] - 1s 1ms/step - loss: 1.7045 - sparse_categorical_accuracy: 0.7214\n",
      "Epoch 6/50\n",
      "469/469 [==============================] - 1s 1ms/step - loss: 1.6523 - sparse_categorical_accuracy: 0.7567\n",
      "Epoch 7/50\n",
      "469/469 [==============================] - 1s 1ms/step - loss: 1.5627 - sparse_categorical_accuracy: 0.8412\n",
      "Epoch 8/50\n",
      "469/469 [==============================] - 1s 1ms/step - loss: 1.5493 - sparse_categorical_accuracy: 0.8594\n",
      "Epoch 9/50\n",
      "469/469 [==============================] - 1s 2ms/step - loss: 1.5401 - sparse_categorical_accuracy: 0.8799\n",
      "Epoch 10/50\n",
      "469/469 [==============================] - 1s 1ms/step - loss: 1.5349 - sparse_categorical_accuracy: 0.8911\n",
      "Epoch 11/50\n",
      "469/469 [==============================] - 1s 1ms/step - loss: 1.5308 - sparse_categorical_accuracy: 0.8983\n",
      "Epoch 12/50\n",
      "469/469 [==============================] - 1s 1ms/step - loss: 1.5276 - sparse_categorical_accuracy: 0.9070\n",
      "Epoch 13/50\n",
      "469/469 [==============================] - 1s 1ms/step - loss: 1.5243 - sparse_categorical_accuracy: 0.9094\n",
      "Epoch 14/50\n",
      "469/469 [==============================] - 1s 1ms/step - loss: 1.5207 - sparse_categorical_accuracy: 0.9129\n",
      "Epoch 15/50\n",
      "469/469 [==============================] - 1s 1ms/step - loss: 1.5186 - sparse_categorical_accuracy: 0.9151\n",
      "Epoch 16/50\n",
      "469/469 [==============================] - 1s 1ms/step - loss: 1.5167 - sparse_categorical_accuracy: 0.9202\n",
      "Epoch 17/50\n",
      "469/469 [==============================] - 1s 1ms/step - loss: 1.5143 - sparse_categorical_accuracy: 0.9277\n",
      "Epoch 18/50\n",
      "469/469 [==============================] - 1s 1ms/step - loss: 1.5124 - sparse_categorical_accuracy: 0.9285\n",
      "Epoch 19/50\n",
      "469/469 [==============================] - 1s 1ms/step - loss: 1.5115 - sparse_categorical_accuracy: 0.9295\n",
      "Epoch 20/50\n",
      "469/469 [==============================] - 1s 1ms/step - loss: 1.5100 - sparse_categorical_accuracy: 0.9289\n",
      "Epoch 21/50\n",
      "469/469 [==============================] - 1s 1ms/step - loss: 1.5088 - sparse_categorical_accuracy: 0.9325\n",
      "Epoch 22/50\n",
      "469/469 [==============================] - 1s 1ms/step - loss: 1.5076 - sparse_categorical_accuracy: 0.9374\n",
      "Epoch 23/50\n",
      "469/469 [==============================] - 1s 1ms/step - loss: 1.5063 - sparse_categorical_accuracy: 0.9360\n",
      "Epoch 24/50\n",
      "469/469 [==============================] - 1s 1ms/step - loss: 1.5052 - sparse_categorical_accuracy: 0.9358\n",
      "Epoch 25/50\n",
      "469/469 [==============================] - 1s 1ms/step - loss: 1.5041 - sparse_categorical_accuracy: 0.9391\n",
      "Epoch 26/50\n",
      "469/469 [==============================] - 1s 1ms/step - loss: 1.5030 - sparse_categorical_accuracy: 0.9420\n",
      "Epoch 27/50\n",
      "469/469 [==============================] - 1s 1ms/step - loss: 1.5019 - sparse_categorical_accuracy: 0.9427\n",
      "Epoch 28/50\n",
      "469/469 [==============================] - 1s 1ms/step - loss: 1.5008 - sparse_categorical_accuracy: 0.9440\n",
      "Epoch 29/50\n",
      "469/469 [==============================] - 1s 1ms/step - loss: 1.4997 - sparse_categorical_accuracy: 0.9452\n",
      "Epoch 30/50\n",
      "469/469 [==============================] - 1s 1ms/step - loss: 1.4995 - sparse_categorical_accuracy: 0.9466\n",
      "Epoch 31/50\n",
      "469/469 [==============================] - 1s 1ms/step - loss: 1.4983 - sparse_categorical_accuracy: 0.9495\n",
      "Epoch 32/50\n",
      "469/469 [==============================] - 1s 1ms/step - loss: 1.4977 - sparse_categorical_accuracy: 0.9497\n",
      "Epoch 33/50\n",
      "469/469 [==============================] - 1s 2ms/step - loss: 1.4973 - sparse_categorical_accuracy: 0.9487\n",
      "Epoch 34/50\n",
      "469/469 [==============================] - 1s 2ms/step - loss: 1.4963 - sparse_categorical_accuracy: 0.9492\n",
      "Epoch 35/50\n",
      "469/469 [==============================] - 1s 1ms/step - loss: 1.4964 - sparse_categorical_accuracy: 0.9509\n",
      "Epoch 36/50\n",
      "469/469 [==============================] - 1s 1ms/step - loss: 1.4955 - sparse_categorical_accuracy: 0.9508\n",
      "Epoch 37/50\n",
      "469/469 [==============================] - 1s 1ms/step - loss: 1.4947 - sparse_categorical_accuracy: 0.9528\n",
      "Epoch 38/50\n",
      "469/469 [==============================] - 1s 1ms/step - loss: 1.4946 - sparse_categorical_accuracy: 0.9547\n",
      "Epoch 39/50\n",
      "469/469 [==============================] - 1s 1ms/step - loss: 1.4938 - sparse_categorical_accuracy: 0.9539\n",
      "Epoch 40/50\n",
      "469/469 [==============================] - 1s 1ms/step - loss: 1.4930 - sparse_categorical_accuracy: 0.9564\n",
      "Epoch 41/50\n",
      "469/469 [==============================] - 1s 1ms/step - loss: 1.4922 - sparse_categorical_accuracy: 0.9567\n",
      "Epoch 42/50\n",
      "469/469 [==============================] - 1s 1ms/step - loss: 1.4915 - sparse_categorical_accuracy: 0.9575\n",
      "Epoch 43/50\n",
      "469/469 [==============================] - 1s 1ms/step - loss: 1.4913 - sparse_categorical_accuracy: 0.9592\n",
      "Epoch 44/50\n",
      "469/469 [==============================] - 1s 1ms/step - loss: 1.4910 - sparse_categorical_accuracy: 0.9593\n",
      "Epoch 45/50\n",
      "469/469 [==============================] - 1s 2ms/step - loss: 1.4904 - sparse_categorical_accuracy: 0.9606\n",
      "Epoch 46/50\n",
      "469/469 [==============================] - 1s 1ms/step - loss: 1.4907 - sparse_categorical_accuracy: 0.9600\n",
      "Epoch 47/50\n",
      "469/469 [==============================] - 1s 1ms/step - loss: 1.4894 - sparse_categorical_accuracy: 0.9612\n",
      "Epoch 48/50\n",
      "469/469 [==============================] - 1s 1ms/step - loss: 1.4893 - sparse_categorical_accuracy: 0.9615\n",
      "Epoch 49/50\n",
      "469/469 [==============================] - 1s 2ms/step - loss: 1.4891 - sparse_categorical_accuracy: 0.9621\n",
      "Epoch 50/50\n",
      "469/469 [==============================] - 1s 1ms/step - loss: 1.4886 - sparse_categorical_accuracy: 0.9625\n",
      "CPU times: user 1min 22s, sys: 10.2 s, total: 1min 32s\n",
      "Wall time: 33.2 s\n"
     ]
    },
    {
     "data": {
      "text/plain": [
       "<tensorflow.python.keras.callbacks.History at 0x15deb2400>"
      ]
     },
     "execution_count": 100,
     "metadata": {},
     "output_type": "execute_result"
    }
   ],
   "source": [
    "%%time\n",
    "model.fit(train_dataset, epochs=50)"
   ]
  },
  {
   "cell_type": "code",
   "execution_count": 101,
   "metadata": {},
   "outputs": [
    {
     "name": "stdout",
     "output_type": "stream",
     "text": [
      "79/79 [==============================] - 0s 2ms/step - loss: 1.5002 - sparse_categorical_accuracy: 0.9577\n"
     ]
    },
    {
     "data": {
      "text/plain": [
       "[1.5001950399785102, 0.9577]"
      ]
     },
     "execution_count": 101,
     "metadata": {},
     "output_type": "execute_result"
    }
   ],
   "source": [
    "model.evaluate(test_dataset)"
   ]
  },
  {
   "cell_type": "markdown",
   "metadata": {},
   "source": [
    "Customizable training loop"
   ]
  },
  {
   "cell_type": "code",
   "execution_count": 109,
   "metadata": {},
   "outputs": [],
   "source": [
    "tf.random.set_seed(42)"
   ]
  },
  {
   "cell_type": "code",
   "execution_count": 110,
   "metadata": {},
   "outputs": [],
   "source": [
    "# Define simple neural net\n",
    "model = tf.keras.Sequential([\n",
    "    tf.keras.layers.Flatten(input_shape=(28, 28)),\n",
    "    tf.keras.layers.Dense(128, activation='relu'),\n",
    "    tf.keras.layers.Dense(10, activation=\"sigmoid\")\n",
    "])\n",
    "\n",
    "# Define optimizer\n",
    "optimizer = tf.keras.optimizers.SGD(learning_rate=0.01)\n",
    "\n",
    "# Define loss function\n",
    "loss_func = tf.keras.losses.SparseCategoricalCrossentropy(from_logits=True)\n",
    "\n",
    "epoch_loss_avg = tf.keras.metrics.Mean()\n",
    "epoch_accuracy = tf.keras.metrics.SparseCategoricalAccuracy()\n",
    "test_epoch_loss_avg = tf.keras.metrics.Mean()\n",
    "test_epoch_accuracy = tf.keras.metrics.SparseCategoricalAccuracy()"
   ]
  },
  {
   "cell_type": "code",
   "execution_count": 111,
   "metadata": {},
   "outputs": [],
   "source": [
    "@tf.function\n",
    "def train_loop(x, y):\n",
    "\n",
    "    # Calculate gradients\n",
    "    with tf.GradientTape() as t:\n",
    "        # training=training is needed only if there are layers with different\n",
    "        # behavior during training versus inference (e.g. Dropout).\n",
    "        predictions = model(x, training=True)\n",
    "        loss = loss_func(y, predictions)\n",
    "\n",
    "    grads = t.gradient(loss, model.trainable_variables)\n",
    "\n",
    "    # Optimize the model\n",
    "    optimizer.apply_gradients(zip(grads, model.trainable_variables))\n",
    "    \n",
    "    # Track progress\n",
    "    epoch_loss_avg(loss)\n",
    "\n",
    "    # Compare predicted label to actual\n",
    "    epoch_accuracy.update_state(y, predictions)\n",
    "    \n",
    "#     return loss, predictions"
   ]
  },
  {
   "cell_type": "code",
   "execution_count": 112,
   "metadata": {},
   "outputs": [
    {
     "data": {
      "application/vnd.jupyter.widget-view+json": {
       "model_id": "653f6b49809641bd8938a2cb8c6aff4d",
       "version_major": 2,
       "version_minor": 0
      },
      "text/plain": [
       "HBox(children=(IntProgress(value=0, max=50), HTML(value='')))"
      ]
     },
     "metadata": {},
     "output_type": "display_data"
    },
    {
     "data": {
      "application/vnd.jupyter.widget-view+json": {
       "model_id": "",
       "version_major": 2,
       "version_minor": 0
      },
      "text/plain": [
       "HBox(children=(IntProgress(value=0, max=469), HTML(value='')))"
      ]
     },
     "metadata": {},
     "output_type": "display_data"
    },
    {
     "name": "stdout",
     "output_type": "stream",
     "text": [
      "Epoch 000: train_loss: 1.786, test_loss: 1.637 Accuracy: 0.611%Test accuracy=0.787\n"
     ]
    },
    {
     "data": {
      "application/vnd.jupyter.widget-view+json": {
       "model_id": "",
       "version_major": 2,
       "version_minor": 0
      },
      "text/plain": [
       "HBox(children=(IntProgress(value=0, max=469), HTML(value='')))"
      ]
     },
     "metadata": {},
     "output_type": "display_data"
    },
    {
     "name": "stdout",
     "output_type": "stream",
     "text": [
      "Epoch 001: train_loss: 1.621, test_loss: 1.588 Accuracy: 0.790%Test accuracy=0.824\n"
     ]
    },
    {
     "data": {
      "application/vnd.jupyter.widget-view+json": {
       "model_id": "",
       "version_major": 2,
       "version_minor": 0
      },
      "text/plain": [
       "HBox(children=(IntProgress(value=0, max=469), HTML(value='')))"
      ]
     },
     "metadata": {},
     "output_type": "display_data"
    },
    {
     "name": "stdout",
     "output_type": "stream",
     "text": [
      "Epoch 002: train_loss: 1.585, test_loss: 1.569 Accuracy: 0.833%Test accuracy=0.845\n"
     ]
    },
    {
     "data": {
      "application/vnd.jupyter.widget-view+json": {
       "model_id": "",
       "version_major": 2,
       "version_minor": 0
      },
      "text/plain": [
       "HBox(children=(IntProgress(value=0, max=469), HTML(value='')))"
      ]
     },
     "metadata": {},
     "output_type": "display_data"
    },
    {
     "name": "stdout",
     "output_type": "stream",
     "text": [
      "Epoch 003: train_loss: 1.571, test_loss: 1.557 Accuracy: 0.852%Test accuracy=0.887\n"
     ]
    },
    {
     "data": {
      "application/vnd.jupyter.widget-view+json": {
       "model_id": "",
       "version_major": 2,
       "version_minor": 0
      },
      "text/plain": [
       "HBox(children=(IntProgress(value=0, max=469), HTML(value='')))"
      ]
     },
     "metadata": {},
     "output_type": "display_data"
    },
    {
     "name": "stdout",
     "output_type": "stream",
     "text": [
      "Epoch 004: train_loss: 1.559, test_loss: 1.550 Accuracy: 0.876%Test accuracy=0.883\n"
     ]
    },
    {
     "data": {
      "application/vnd.jupyter.widget-view+json": {
       "model_id": "",
       "version_major": 2,
       "version_minor": 0
      },
      "text/plain": [
       "HBox(children=(IntProgress(value=0, max=469), HTML(value='')))"
      ]
     },
     "metadata": {},
     "output_type": "display_data"
    },
    {
     "name": "stdout",
     "output_type": "stream",
     "text": [
      "Epoch 005: train_loss: 1.552, test_loss: 1.541 Accuracy: 0.880%Test accuracy=0.897\n"
     ]
    },
    {
     "data": {
      "application/vnd.jupyter.widget-view+json": {
       "model_id": "",
       "version_major": 2,
       "version_minor": 0
      },
      "text/plain": [
       "HBox(children=(IntProgress(value=0, max=469), HTML(value='')))"
      ]
     },
     "metadata": {},
     "output_type": "display_data"
    },
    {
     "name": "stdout",
     "output_type": "stream",
     "text": [
      "Epoch 006: train_loss: 1.545, test_loss: 1.542 Accuracy: 0.886%Test accuracy=0.904\n"
     ]
    },
    {
     "data": {
      "application/vnd.jupyter.widget-view+json": {
       "model_id": "",
       "version_major": 2,
       "version_minor": 0
      },
      "text/plain": [
       "HBox(children=(IntProgress(value=0, max=469), HTML(value='')))"
      ]
     },
     "metadata": {},
     "output_type": "display_data"
    },
    {
     "name": "stdout",
     "output_type": "stream",
     "text": [
      "Epoch 007: train_loss: 1.540, test_loss: 1.538 Accuracy: 0.898%Test accuracy=0.897\n"
     ]
    },
    {
     "data": {
      "application/vnd.jupyter.widget-view+json": {
       "model_id": "",
       "version_major": 2,
       "version_minor": 0
      },
      "text/plain": [
       "HBox(children=(IntProgress(value=0, max=469), HTML(value='')))"
      ]
     },
     "metadata": {},
     "output_type": "display_data"
    },
    {
     "name": "stdout",
     "output_type": "stream",
     "text": [
      "Epoch 008: train_loss: 1.537, test_loss: 1.536 Accuracy: 0.896%Test accuracy=0.896\n"
     ]
    },
    {
     "data": {
      "application/vnd.jupyter.widget-view+json": {
       "model_id": "",
       "version_major": 2,
       "version_minor": 0
      },
      "text/plain": [
       "HBox(children=(IntProgress(value=0, max=469), HTML(value='')))"
      ]
     },
     "metadata": {},
     "output_type": "display_data"
    },
    {
     "name": "stdout",
     "output_type": "stream",
     "text": [
      "Epoch 009: train_loss: 1.533, test_loss: 1.530 Accuracy: 0.900%Test accuracy=0.911\n"
     ]
    },
    {
     "data": {
      "application/vnd.jupyter.widget-view+json": {
       "model_id": "",
       "version_major": 2,
       "version_minor": 0
      },
      "text/plain": [
       "HBox(children=(IntProgress(value=0, max=469), HTML(value='')))"
      ]
     },
     "metadata": {},
     "output_type": "display_data"
    },
    {
     "name": "stdout",
     "output_type": "stream",
     "text": [
      "Epoch 010: train_loss: 1.529, test_loss: 1.535 Accuracy: 0.905%Test accuracy=0.912\n"
     ]
    },
    {
     "data": {
      "application/vnd.jupyter.widget-view+json": {
       "model_id": "",
       "version_major": 2,
       "version_minor": 0
      },
      "text/plain": [
       "HBox(children=(IntProgress(value=0, max=469), HTML(value='')))"
      ]
     },
     "metadata": {},
     "output_type": "display_data"
    },
    {
     "name": "stdout",
     "output_type": "stream",
     "text": [
      "Epoch 011: train_loss: 1.526, test_loss: 1.528 Accuracy: 0.909%Test accuracy=0.912\n"
     ]
    },
    {
     "data": {
      "application/vnd.jupyter.widget-view+json": {
       "model_id": "",
       "version_major": 2,
       "version_minor": 0
      },
      "text/plain": [
       "HBox(children=(IntProgress(value=0, max=469), HTML(value='')))"
      ]
     },
     "metadata": {},
     "output_type": "display_data"
    },
    {
     "name": "stdout",
     "output_type": "stream",
     "text": [
      "Epoch 012: train_loss: 1.523, test_loss: 1.526 Accuracy: 0.913%Test accuracy=0.917\n"
     ]
    },
    {
     "data": {
      "application/vnd.jupyter.widget-view+json": {
       "model_id": "",
       "version_major": 2,
       "version_minor": 0
      },
      "text/plain": [
       "HBox(children=(IntProgress(value=0, max=469), HTML(value='')))"
      ]
     },
     "metadata": {},
     "output_type": "display_data"
    },
    {
     "name": "stdout",
     "output_type": "stream",
     "text": [
      "Epoch 013: train_loss: 1.521, test_loss: 1.522 Accuracy: 0.920%Test accuracy=0.925\n"
     ]
    },
    {
     "data": {
      "application/vnd.jupyter.widget-view+json": {
       "model_id": "",
       "version_major": 2,
       "version_minor": 0
      },
      "text/plain": [
       "HBox(children=(IntProgress(value=0, max=469), HTML(value='')))"
      ]
     },
     "metadata": {},
     "output_type": "display_data"
    },
    {
     "name": "stdout",
     "output_type": "stream",
     "text": [
      "Epoch 014: train_loss: 1.519, test_loss: 1.520 Accuracy: 0.922%Test accuracy=0.921\n"
     ]
    },
    {
     "data": {
      "application/vnd.jupyter.widget-view+json": {
       "model_id": "",
       "version_major": 2,
       "version_minor": 0
      },
      "text/plain": [
       "HBox(children=(IntProgress(value=0, max=469), HTML(value='')))"
      ]
     },
     "metadata": {},
     "output_type": "display_data"
    },
    {
     "name": "stdout",
     "output_type": "stream",
     "text": [
      "Epoch 015: train_loss: 1.517, test_loss: 1.523 Accuracy: 0.925%Test accuracy=0.927\n"
     ]
    },
    {
     "data": {
      "application/vnd.jupyter.widget-view+json": {
       "model_id": "",
       "version_major": 2,
       "version_minor": 0
      },
      "text/plain": [
       "HBox(children=(IntProgress(value=0, max=469), HTML(value='')))"
      ]
     },
     "metadata": {},
     "output_type": "display_data"
    },
    {
     "name": "stdout",
     "output_type": "stream",
     "text": [
      "Epoch 016: train_loss: 1.516, test_loss: 1.518 Accuracy: 0.925%Test accuracy=0.923\n"
     ]
    },
    {
     "data": {
      "application/vnd.jupyter.widget-view+json": {
       "model_id": "",
       "version_major": 2,
       "version_minor": 0
      },
      "text/plain": [
       "HBox(children=(IntProgress(value=0, max=469), HTML(value='')))"
      ]
     },
     "metadata": {},
     "output_type": "display_data"
    },
    {
     "name": "stdout",
     "output_type": "stream",
     "text": [
      "Epoch 017: train_loss: 1.514, test_loss: 1.517 Accuracy: 0.927%Test accuracy=0.923\n"
     ]
    },
    {
     "data": {
      "application/vnd.jupyter.widget-view+json": {
       "model_id": "",
       "version_major": 2,
       "version_minor": 0
      },
      "text/plain": [
       "HBox(children=(IntProgress(value=0, max=469), HTML(value='')))"
      ]
     },
     "metadata": {},
     "output_type": "display_data"
    },
    {
     "name": "stdout",
     "output_type": "stream",
     "text": [
      "Epoch 018: train_loss: 1.512, test_loss: 1.514 Accuracy: 0.930%Test accuracy=0.926\n"
     ]
    },
    {
     "data": {
      "application/vnd.jupyter.widget-view+json": {
       "model_id": "",
       "version_major": 2,
       "version_minor": 0
      },
      "text/plain": [
       "HBox(children=(IntProgress(value=0, max=469), HTML(value='')))"
      ]
     },
     "metadata": {},
     "output_type": "display_data"
    },
    {
     "name": "stdout",
     "output_type": "stream",
     "text": [
      "Epoch 019: train_loss: 1.511, test_loss: 1.514 Accuracy: 0.931%Test accuracy=0.925\n"
     ]
    },
    {
     "data": {
      "application/vnd.jupyter.widget-view+json": {
       "model_id": "",
       "version_major": 2,
       "version_minor": 0
      },
      "text/plain": [
       "HBox(children=(IntProgress(value=0, max=469), HTML(value='')))"
      ]
     },
     "metadata": {},
     "output_type": "display_data"
    },
    {
     "name": "stdout",
     "output_type": "stream",
     "text": [
      "Epoch 020: train_loss: 1.509, test_loss: 1.514 Accuracy: 0.932%Test accuracy=0.928\n"
     ]
    },
    {
     "data": {
      "application/vnd.jupyter.widget-view+json": {
       "model_id": "",
       "version_major": 2,
       "version_minor": 0
      },
      "text/plain": [
       "HBox(children=(IntProgress(value=0, max=469), HTML(value='')))"
      ]
     },
     "metadata": {},
     "output_type": "display_data"
    },
    {
     "name": "stdout",
     "output_type": "stream",
     "text": [
      "Epoch 021: train_loss: 1.509, test_loss: 1.512 Accuracy: 0.935%Test accuracy=0.935\n"
     ]
    },
    {
     "data": {
      "application/vnd.jupyter.widget-view+json": {
       "model_id": "",
       "version_major": 2,
       "version_minor": 0
      },
      "text/plain": [
       "HBox(children=(IntProgress(value=0, max=469), HTML(value='')))"
      ]
     },
     "metadata": {},
     "output_type": "display_data"
    },
    {
     "name": "stdout",
     "output_type": "stream",
     "text": [
      "Epoch 022: train_loss: 1.507, test_loss: 1.515 Accuracy: 0.937%Test accuracy=0.936\n"
     ]
    },
    {
     "data": {
      "application/vnd.jupyter.widget-view+json": {
       "model_id": "",
       "version_major": 2,
       "version_minor": 0
      },
      "text/plain": [
       "HBox(children=(IntProgress(value=0, max=469), HTML(value='')))"
      ]
     },
     "metadata": {},
     "output_type": "display_data"
    },
    {
     "name": "stdout",
     "output_type": "stream",
     "text": [
      "Epoch 023: train_loss: 1.507, test_loss: 1.511 Accuracy: 0.938%Test accuracy=0.934\n"
     ]
    },
    {
     "data": {
      "application/vnd.jupyter.widget-view+json": {
       "model_id": "",
       "version_major": 2,
       "version_minor": 0
      },
      "text/plain": [
       "HBox(children=(IntProgress(value=0, max=469), HTML(value='')))"
      ]
     },
     "metadata": {},
     "output_type": "display_data"
    },
    {
     "name": "stdout",
     "output_type": "stream",
     "text": [
      "Epoch 024: train_loss: 1.505, test_loss: 1.508 Accuracy: 0.940%Test accuracy=0.940\n"
     ]
    },
    {
     "data": {
      "application/vnd.jupyter.widget-view+json": {
       "model_id": "",
       "version_major": 2,
       "version_minor": 0
      },
      "text/plain": [
       "HBox(children=(IntProgress(value=0, max=469), HTML(value='')))"
      ]
     },
     "metadata": {},
     "output_type": "display_data"
    },
    {
     "name": "stdout",
     "output_type": "stream",
     "text": [
      "Epoch 025: train_loss: 1.505, test_loss: 1.508 Accuracy: 0.941%Test accuracy=0.938\n"
     ]
    },
    {
     "data": {
      "application/vnd.jupyter.widget-view+json": {
       "model_id": "",
       "version_major": 2,
       "version_minor": 0
      },
      "text/plain": [
       "HBox(children=(IntProgress(value=0, max=469), HTML(value='')))"
      ]
     },
     "metadata": {},
     "output_type": "display_data"
    },
    {
     "name": "stdout",
     "output_type": "stream",
     "text": [
      "Epoch 026: train_loss: 1.503, test_loss: 1.510 Accuracy: 0.941%Test accuracy=0.943\n"
     ]
    },
    {
     "data": {
      "application/vnd.jupyter.widget-view+json": {
       "model_id": "",
       "version_major": 2,
       "version_minor": 0
      },
      "text/plain": [
       "HBox(children=(IntProgress(value=0, max=469), HTML(value='')))"
      ]
     },
     "metadata": {},
     "output_type": "display_data"
    },
    {
     "name": "stdout",
     "output_type": "stream",
     "text": [
      "Epoch 027: train_loss: 1.502, test_loss: 1.509 Accuracy: 0.943%Test accuracy=0.944\n"
     ]
    },
    {
     "data": {
      "application/vnd.jupyter.widget-view+json": {
       "model_id": "",
       "version_major": 2,
       "version_minor": 0
      },
      "text/plain": [
       "HBox(children=(IntProgress(value=0, max=469), HTML(value='')))"
      ]
     },
     "metadata": {},
     "output_type": "display_data"
    },
    {
     "name": "stdout",
     "output_type": "stream",
     "text": [
      "Epoch 028: train_loss: 1.502, test_loss: 1.507 Accuracy: 0.944%Test accuracy=0.945\n"
     ]
    },
    {
     "data": {
      "application/vnd.jupyter.widget-view+json": {
       "model_id": "",
       "version_major": 2,
       "version_minor": 0
      },
      "text/plain": [
       "HBox(children=(IntProgress(value=0, max=469), HTML(value='')))"
      ]
     },
     "metadata": {},
     "output_type": "display_data"
    },
    {
     "name": "stdout",
     "output_type": "stream",
     "text": [
      "Epoch 029: train_loss: 1.500, test_loss: 1.506 Accuracy: 0.947%Test accuracy=0.940\n"
     ]
    },
    {
     "data": {
      "application/vnd.jupyter.widget-view+json": {
       "model_id": "",
       "version_major": 2,
       "version_minor": 0
      },
      "text/plain": [
       "HBox(children=(IntProgress(value=0, max=469), HTML(value='')))"
      ]
     },
     "metadata": {},
     "output_type": "display_data"
    },
    {
     "name": "stdout",
     "output_type": "stream",
     "text": [
      "Epoch 030: train_loss: 1.500, test_loss: 1.506 Accuracy: 0.948%Test accuracy=0.945\n"
     ]
    },
    {
     "data": {
      "application/vnd.jupyter.widget-view+json": {
       "model_id": "",
       "version_major": 2,
       "version_minor": 0
      },
      "text/plain": [
       "HBox(children=(IntProgress(value=0, max=469), HTML(value='')))"
      ]
     },
     "metadata": {},
     "output_type": "display_data"
    },
    {
     "name": "stdout",
     "output_type": "stream",
     "text": [
      "Epoch 031: train_loss: 1.499, test_loss: 1.506 Accuracy: 0.949%Test accuracy=0.944\n"
     ]
    },
    {
     "data": {
      "application/vnd.jupyter.widget-view+json": {
       "model_id": "",
       "version_major": 2,
       "version_minor": 0
      },
      "text/plain": [
       "HBox(children=(IntProgress(value=0, max=469), HTML(value='')))"
      ]
     },
     "metadata": {},
     "output_type": "display_data"
    },
    {
     "name": "stdout",
     "output_type": "stream",
     "text": [
      "Epoch 032: train_loss: 1.499, test_loss: 1.508 Accuracy: 0.949%Test accuracy=0.946\n"
     ]
    },
    {
     "data": {
      "application/vnd.jupyter.widget-view+json": {
       "model_id": "",
       "version_major": 2,
       "version_minor": 0
      },
      "text/plain": [
       "HBox(children=(IntProgress(value=0, max=469), HTML(value='')))"
      ]
     },
     "metadata": {},
     "output_type": "display_data"
    },
    {
     "name": "stdout",
     "output_type": "stream",
     "text": [
      "Epoch 033: train_loss: 1.498, test_loss: 1.507 Accuracy: 0.949%Test accuracy=0.945\n"
     ]
    },
    {
     "data": {
      "application/vnd.jupyter.widget-view+json": {
       "model_id": "",
       "version_major": 2,
       "version_minor": 0
      },
      "text/plain": [
       "HBox(children=(IntProgress(value=0, max=469), HTML(value='')))"
      ]
     },
     "metadata": {},
     "output_type": "display_data"
    },
    {
     "name": "stdout",
     "output_type": "stream",
     "text": [
      "Epoch 034: train_loss: 1.498, test_loss: 1.504 Accuracy: 0.949%Test accuracy=0.945\n"
     ]
    },
    {
     "data": {
      "application/vnd.jupyter.widget-view+json": {
       "model_id": "",
       "version_major": 2,
       "version_minor": 0
      },
      "text/plain": [
       "HBox(children=(IntProgress(value=0, max=469), HTML(value='')))"
      ]
     },
     "metadata": {},
     "output_type": "display_data"
    },
    {
     "name": "stdout",
     "output_type": "stream",
     "text": [
      "Epoch 035: train_loss: 1.497, test_loss: 1.504 Accuracy: 0.951%Test accuracy=0.946\n"
     ]
    },
    {
     "data": {
      "application/vnd.jupyter.widget-view+json": {
       "model_id": "",
       "version_major": 2,
       "version_minor": 0
      },
      "text/plain": [
       "HBox(children=(IntProgress(value=0, max=469), HTML(value='')))"
      ]
     },
     "metadata": {},
     "output_type": "display_data"
    },
    {
     "name": "stdout",
     "output_type": "stream",
     "text": [
      "Epoch 036: train_loss: 1.497, test_loss: 1.505 Accuracy: 0.951%Test accuracy=0.946\n"
     ]
    },
    {
     "data": {
      "application/vnd.jupyter.widget-view+json": {
       "model_id": "",
       "version_major": 2,
       "version_minor": 0
      },
      "text/plain": [
       "HBox(children=(IntProgress(value=0, max=469), HTML(value='')))"
      ]
     },
     "metadata": {},
     "output_type": "display_data"
    },
    {
     "name": "stdout",
     "output_type": "stream",
     "text": [
      "Epoch 037: train_loss: 1.495, test_loss: 1.503 Accuracy: 0.953%Test accuracy=0.946\n"
     ]
    },
    {
     "data": {
      "application/vnd.jupyter.widget-view+json": {
       "model_id": "",
       "version_major": 2,
       "version_minor": 0
      },
      "text/plain": [
       "HBox(children=(IntProgress(value=0, max=469), HTML(value='')))"
      ]
     },
     "metadata": {},
     "output_type": "display_data"
    },
    {
     "name": "stdout",
     "output_type": "stream",
     "text": [
      "Epoch 038: train_loss: 1.495, test_loss: 1.505 Accuracy: 0.954%Test accuracy=0.948\n"
     ]
    },
    {
     "data": {
      "application/vnd.jupyter.widget-view+json": {
       "model_id": "",
       "version_major": 2,
       "version_minor": 0
      },
      "text/plain": [
       "HBox(children=(IntProgress(value=0, max=469), HTML(value='')))"
      ]
     },
     "metadata": {},
     "output_type": "display_data"
    },
    {
     "name": "stdout",
     "output_type": "stream",
     "text": [
      "Epoch 039: train_loss: 1.494, test_loss: 1.503 Accuracy: 0.955%Test accuracy=0.952\n"
     ]
    },
    {
     "data": {
      "application/vnd.jupyter.widget-view+json": {
       "model_id": "",
       "version_major": 2,
       "version_minor": 0
      },
      "text/plain": [
       "HBox(children=(IntProgress(value=0, max=469), HTML(value='')))"
      ]
     },
     "metadata": {},
     "output_type": "display_data"
    },
    {
     "name": "stdout",
     "output_type": "stream",
     "text": [
      "Epoch 040: train_loss: 1.493, test_loss: 1.505 Accuracy: 0.956%Test accuracy=0.944\n"
     ]
    },
    {
     "data": {
      "application/vnd.jupyter.widget-view+json": {
       "model_id": "",
       "version_major": 2,
       "version_minor": 0
      },
      "text/plain": [
       "HBox(children=(IntProgress(value=0, max=469), HTML(value='')))"
      ]
     },
     "metadata": {},
     "output_type": "display_data"
    },
    {
     "name": "stdout",
     "output_type": "stream",
     "text": [
      "Epoch 041: train_loss: 1.494, test_loss: 1.503 Accuracy: 0.955%Test accuracy=0.942\n"
     ]
    },
    {
     "data": {
      "application/vnd.jupyter.widget-view+json": {
       "model_id": "",
       "version_major": 2,
       "version_minor": 0
      },
      "text/plain": [
       "HBox(children=(IntProgress(value=0, max=469), HTML(value='')))"
      ]
     },
     "metadata": {},
     "output_type": "display_data"
    },
    {
     "name": "stdout",
     "output_type": "stream",
     "text": [
      "Epoch 042: train_loss: 1.493, test_loss: 1.506 Accuracy: 0.956%Test accuracy=0.948\n"
     ]
    },
    {
     "data": {
      "application/vnd.jupyter.widget-view+json": {
       "model_id": "",
       "version_major": 2,
       "version_minor": 0
      },
      "text/plain": [
       "HBox(children=(IntProgress(value=0, max=469), HTML(value='')))"
      ]
     },
     "metadata": {},
     "output_type": "display_data"
    },
    {
     "name": "stdout",
     "output_type": "stream",
     "text": [
      "Epoch 043: train_loss: 1.493, test_loss: 1.502 Accuracy: 0.957%Test accuracy=0.948\n"
     ]
    },
    {
     "data": {
      "application/vnd.jupyter.widget-view+json": {
       "model_id": "",
       "version_major": 2,
       "version_minor": 0
      },
      "text/plain": [
       "HBox(children=(IntProgress(value=0, max=469), HTML(value='')))"
      ]
     },
     "metadata": {},
     "output_type": "display_data"
    },
    {
     "name": "stdout",
     "output_type": "stream",
     "text": [
      "Epoch 044: train_loss: 1.492, test_loss: 1.502 Accuracy: 0.957%Test accuracy=0.951\n"
     ]
    },
    {
     "data": {
      "application/vnd.jupyter.widget-view+json": {
       "model_id": "",
       "version_major": 2,
       "version_minor": 0
      },
      "text/plain": [
       "HBox(children=(IntProgress(value=0, max=469), HTML(value='')))"
      ]
     },
     "metadata": {},
     "output_type": "display_data"
    },
    {
     "name": "stdout",
     "output_type": "stream",
     "text": [
      "Epoch 045: train_loss: 1.492, test_loss: 1.504 Accuracy: 0.956%Test accuracy=0.949\n"
     ]
    },
    {
     "data": {
      "application/vnd.jupyter.widget-view+json": {
       "model_id": "",
       "version_major": 2,
       "version_minor": 0
      },
      "text/plain": [
       "HBox(children=(IntProgress(value=0, max=469), HTML(value='')))"
      ]
     },
     "metadata": {},
     "output_type": "display_data"
    },
    {
     "name": "stdout",
     "output_type": "stream",
     "text": [
      "Epoch 046: train_loss: 1.491, test_loss: 1.502 Accuracy: 0.958%Test accuracy=0.950\n"
     ]
    },
    {
     "data": {
      "application/vnd.jupyter.widget-view+json": {
       "model_id": "",
       "version_major": 2,
       "version_minor": 0
      },
      "text/plain": [
       "HBox(children=(IntProgress(value=0, max=469), HTML(value='')))"
      ]
     },
     "metadata": {},
     "output_type": "display_data"
    },
    {
     "name": "stdout",
     "output_type": "stream",
     "text": [
      "Epoch 047: train_loss: 1.491, test_loss: 1.504 Accuracy: 0.958%Test accuracy=0.951\n"
     ]
    },
    {
     "data": {
      "application/vnd.jupyter.widget-view+json": {
       "model_id": "",
       "version_major": 2,
       "version_minor": 0
      },
      "text/plain": [
       "HBox(children=(IntProgress(value=0, max=469), HTML(value='')))"
      ]
     },
     "metadata": {},
     "output_type": "display_data"
    },
    {
     "name": "stdout",
     "output_type": "stream",
     "text": [
      "Epoch 048: train_loss: 1.490, test_loss: 1.501 Accuracy: 0.959%Test accuracy=0.951\n"
     ]
    },
    {
     "data": {
      "application/vnd.jupyter.widget-view+json": {
       "model_id": "",
       "version_major": 2,
       "version_minor": 0
      },
      "text/plain": [
       "HBox(children=(IntProgress(value=0, max=469), HTML(value='')))"
      ]
     },
     "metadata": {},
     "output_type": "display_data"
    },
    {
     "name": "stdout",
     "output_type": "stream",
     "text": [
      "Epoch 049: train_loss: 1.490, test_loss: 1.502 Accuracy: 0.958%Test accuracy=0.953\n",
      "\n",
      "CPU times: user 1min 16s, sys: 8.02 s, total: 1min 24s\n",
      "Wall time: 39.2 s\n"
     ]
    }
   ],
   "source": [
    "%%time\n",
    "train_loss_results = []\n",
    "train_accuracy_results = []\n",
    "epochs = 50\n",
    "n_batches = len(list(train_dataset))\n",
    "\n",
    "for epoch in tqdm(np.arange(epochs)):\n",
    "    \n",
    "    for x, y in tqdm(train_dataset, total=n_batches, leave=False):\n",
    "        train_loop(x, y)\n",
    "\n",
    "    # End epoch\n",
    "    train_loss_results.append(epoch_loss_avg.result())\n",
    "    train_accuracy_results.append(epoch_accuracy.result())\n",
    "    \n",
    "    # Test\n",
    "    for (x_valid, y_valid) in test_dataset:\n",
    "        preds_test = model(x_valid, training=False)\n",
    "        test_loss = loss_func(y_valid, preds_test)\n",
    "        test_epoch_loss_avg(test_loss)\n",
    "        test_epoch_accuracy.update_state(y_valid, preds_test)\n",
    "    \n",
    "    print(f\"Epoch {epoch:03d}: train_loss: {epoch_loss_avg.result():.3f}, \"\n",
    "          f\"test_loss: {test_epoch_loss_avg.result():.3f} \"\n",
    "          f\"Accuracy: {epoch_accuracy.result():.3f}%\"\n",
    "          f\"Test accuracy={test_epoch_accuracy.result():.3f}\"\n",
    "    )\n",
    "    \n",
    "    # Clear the current state of the metrics\n",
    "    epoch_loss_avg.reset_states()\n",
    "    epoch_accuracy.reset_states()\n",
    "    test_epoch_loss_avg.reset_states()\n",
    "    test_epoch_accuracy.reset_states()\n",
    "    # valid_loss.reset_states(), valid_acc.reset_states()\n",
    "    \n",
    "    "
   ]
  },
  {
   "cell_type": "code",
   "execution_count": null,
   "metadata": {},
   "outputs": [],
   "source": []
  }
 ],
 "metadata": {
  "kernelspec": {
   "display_name": "Python 3.7.3 64-bit ('ftml': conda)",
   "language": "python",
   "name": "python37364bitftmlconda5ad2e40e989d4158b56c2565543c08fe"
  },
  "language_info": {
   "codemirror_mode": {
    "name": "ipython",
    "version": 3
   },
   "file_extension": ".py",
   "mimetype": "text/x-python",
   "name": "python",
   "nbconvert_exporter": "python",
   "pygments_lexer": "ipython3",
   "version": "3.7.3"
  },
  "toc-autonumbering": false
 },
 "nbformat": 4,
 "nbformat_minor": 4
}
